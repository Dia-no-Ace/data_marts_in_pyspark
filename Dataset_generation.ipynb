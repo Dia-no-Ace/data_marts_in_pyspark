{
 "cells": [
  {
   "cell_type": "code",
   "execution_count": 1,
   "id": "b56e057d-9766-424b-88c4-2574bc78fd47",
   "metadata": {},
   "outputs": [],
   "source": [
    "from pyspark.sql import SparkSession"
   ]
  },
  {
   "cell_type": "code",
   "execution_count": 2,
   "id": "f2f6fe3c-0ea1-4875-95f6-501c842c266a",
   "metadata": {},
   "outputs": [
    {
     "name": "stderr",
     "output_type": "stream",
     "text": [
      "Setting default log level to \"WARN\".\n",
      "To adjust logging level use sc.setLogLevel(newLevel). For SparkR, use setLogLevel(newLevel).\n",
      "25/08/21 00:23:21 WARN NativeCodeLoader: Unable to load native-hadoop library for your platform... using builtin-java classes where applicable\n"
     ]
    }
   ],
   "source": [
    "spark = SparkSession.builder.master(\"local[*]\").getOrCreate()\n",
    "spark.conf.set(\"spark.sql.repl.eagerEval.enabled\", True)"
   ]
  },
  {
   "cell_type": "code",
   "execution_count": 3,
   "id": "b99c9279-6dc8-47aa-a478-dcc1652a7160",
   "metadata": {},
   "outputs": [
    {
     "name": "stdout",
     "output_type": "stream",
     "text": [
      "Requirement already satisfied: pdoc3 in /Users/nataly/.pyenv/versions/3.11.12/lib/python3.11/site-packages (0.11.6)\n",
      "Requirement already satisfied: mako in /Users/nataly/.pyenv/versions/3.11.12/lib/python3.11/site-packages (from pdoc3) (1.3.10)\n",
      "Requirement already satisfied: markdown>=3.0 in /Users/nataly/.pyenv/versions/3.11.12/lib/python3.11/site-packages (from pdoc3) (3.8.2)\n",
      "Requirement already satisfied: MarkupSafe>=0.9.2 in /Users/nataly/.pyenv/versions/3.11.12/lib/python3.11/site-packages (from mako->pdoc3) (3.0.2)\n",
      "\n",
      "\u001b[1m[\u001b[0m\u001b[34;49mnotice\u001b[0m\u001b[1;39;49m]\u001b[0m\u001b[39;49m A new release of pip is available: \u001b[0m\u001b[31;49m25.1.1\u001b[0m\u001b[39;49m -> \u001b[0m\u001b[32;49m25.2\u001b[0m\n",
      "\u001b[1m[\u001b[0m\u001b[34;49mnotice\u001b[0m\u001b[1;39;49m]\u001b[0m\u001b[39;49m To update, run: \u001b[0m\u001b[32;49mpip install --upgrade pip\u001b[0m\n",
      "Requirement already satisfied: country_list in /Users/nataly/.pyenv/versions/3.11.12/lib/python3.11/site-packages (1.1.0)\n",
      "\n",
      "\u001b[1m[\u001b[0m\u001b[34;49mnotice\u001b[0m\u001b[1;39;49m]\u001b[0m\u001b[39;49m A new release of pip is available: \u001b[0m\u001b[31;49m25.1.1\u001b[0m\u001b[39;49m -> \u001b[0m\u001b[32;49m25.2\u001b[0m\n",
      "\u001b[1m[\u001b[0m\u001b[34;49mnotice\u001b[0m\u001b[1;39;49m]\u001b[0m\u001b[39;49m To update, run: \u001b[0m\u001b[32;49mpip install --upgrade pip\u001b[0m\n",
      "Requirement already satisfied: countryinfo in /Users/nataly/.pyenv/versions/3.11.12/lib/python3.11/site-packages (0.1.2)\n",
      "\n",
      "\u001b[1m[\u001b[0m\u001b[34;49mnotice\u001b[0m\u001b[1;39;49m]\u001b[0m\u001b[39;49m A new release of pip is available: \u001b[0m\u001b[31;49m25.1.1\u001b[0m\u001b[39;49m -> \u001b[0m\u001b[32;49m25.2\u001b[0m\n",
      "\u001b[1m[\u001b[0m\u001b[34;49mnotice\u001b[0m\u001b[1;39;49m]\u001b[0m\u001b[39;49m To update, run: \u001b[0m\u001b[32;49mpip install --upgrade pip\u001b[0m\n"
     ]
    }
   ],
   "source": [
    "!pip install pdoc3 ##Генерация html-страниц из docstrings (комментариев в коде). \n",
    "!pip install country_list ##package provides a list of all countries, including their names and ISO 3166-1 codes, available in various languages and data formats.\n",
    "!pip install countryinfo"
   ]
  },
  {
   "cell_type": "code",
   "execution_count": 4,
   "id": "b75ddc23-ebe7-42a6-9a7a-c7fef8895f2c",
   "metadata": {},
   "outputs": [],
   "source": [
    "import random\n",
    "import uuid ##generating Universally Unique Identifiers (UUIDs) according to RFC 4122\n",
    "import string ##various predefined string constants that represent common character sets\n",
    "import pyspark.sql.types as T\n",
    "import pyspark.sql.functions as F\n",
    "import countryinfo\n",
    "import country_list\n",
    "import hashlib ##interface to various secure hash and message digest algorithms\n",
    "from  datetime import date\n",
    "from  datetime import datetime\n",
    "from  datetime import timedelta\n",
    "import logging"
   ]
  },
  {
   "cell_type": "code",
   "execution_count": 5,
   "id": "5cbd6fcb-5101-48c0-b2b4-d192254bb663",
   "metadata": {},
   "outputs": [],
   "source": [
    "logger = logging.getLogger()\n",
    "logging.basicConfig(\n",
    "      filename = \"mylog.log\",\n",
    "      format = \"%(asctime)s - %(levelname)s - %(funcName)s: %(lineno)d - %(message)s\",\n",
    "      datefmt='%H:%M:%S',\n",
    "    )"
   ]
  },
  {
   "cell_type": "code",
   "execution_count": 6,
   "id": "00132bf2-5bb3-4768-8fc2-7b0fb9019697",
   "metadata": {},
   "outputs": [],
   "source": [
    "countries = [('AF', 'Afghanistan'), ('AM', 'Armenia'), ('BY', 'Belarus'), ('IL', 'Israel'), ('KZ', 'Kazakhstan'), ('RU', 'Russia')]"
   ]
  },
  {
   "cell_type": "code",
   "execution_count": 7,
   "id": "def53e69-f059-466a-a732-fc70b94db9fe",
   "metadata": {},
   "outputs": [],
   "source": [
    "def generation_value(count: int = 10):\n",
    "    \"\"\"Генерация числа.\n",
    "\n",
    "    Parameters:\n",
    "        count: int\n",
    "              Количество цифр в числе.\n",
    "\n",
    "    Returns:\n",
    "        string:\n",
    "              Сгенерированное число.\n",
    "    \"\"\"\n",
    "\n",
    "    return \"\".join(random.choices(string.digits, k=count))"
   ]
  },
  {
   "cell_type": "code",
   "execution_count": 8,
   "id": "9a811141-a3cd-4136-9cef-e2f52e0042cf",
   "metadata": {},
   "outputs": [
    {
     "name": "stdout",
     "output_type": "stream",
     "text": [
      "Генерация числа.\n",
      "\n",
      "    Parameters:\n",
      "        count: int\n",
      "              Количество цифр в числе.\n",
      "\n",
      "    Returns:\n",
      "        string:\n",
      "              Сгенерированное число.\n",
      "    \n"
     ]
    }
   ],
   "source": [
    "print(generation_value.__doc__)"
   ]
  },
  {
   "cell_type": "code",
   "execution_count": 9,
   "id": "1c0d95f1-ed22-44ee-a90a-bbe5a1e40b76",
   "metadata": {},
   "outputs": [],
   "source": [
    "def generate_rows_table(count: int = 1,\n",
    "                    timestampcolumn: datetime = date.today()):\n",
    "    \"\"\"Генерация строк таблицы.\n",
    "\n",
    "    Parameters:\n",
    "        count: int\n",
    "              Количество строк.\n",
    "        timestampcolumn: datetime\n",
    "              Дата в колонке 'timestampcolumn'.\n",
    "\n",
    "    Returns:\n",
    "        list_cookies: list\n",
    "              Возвращает массив списков, представляющий собой строку таблицы.\n",
    "    \"\"\"\n",
    "    list_cookies = list()\n",
    "    \n",
    "    for _ in range(count):\n",
    "        # генерация cookies\n",
    "        inn = generation_value(12)\n",
    "\n",
    "        _sa_cookie_a = {\n",
    "            \"key\": \"_sa_cookie_a\",\n",
    "            \"value\": f\"SA1.{uuid.uuid4()}.{generation_value(10)}\"\n",
    "        }\n",
    "\n",
    "        _fa_cookie_a = {\n",
    "            \"key\": \"_fa_cookie_a\",\n",
    "            \"value\": f\"ads2.{generation_value(10)}.{generation_value(10)}\"\n",
    "        }\n",
    "\n",
    "        _ym_cookie_c = {\n",
    "            \"key\": \"_ym_cookie_c\",\n",
    "            \"value\": {''.join(generation_value(20))}\n",
    "        }\n",
    "\n",
    "        _fbp = {\n",
    "            \"key\": \"_fbp\",\n",
    "            \"value\": f\"fb.{random.choice(string.digits)}.\"\n",
    "                         f\"{generation_value(13)}.\"\n",
    "                         f\"{generation_value(9)}\"\n",
    "        }\n",
    "\n",
    "        org_uid = {\n",
    "            \"key\": \"org_uid\",\n",
    "            \"value\": f\"{generation_value(7)}\"\n",
    "        }\n",
    "\n",
    "        user_uid = {\n",
    "            \"key\": \"user_uid\",\n",
    "            \"value\": f\"{generation_value(7)}\"\n",
    "        }\n",
    "\n",
    "        user_phone = {\n",
    "            \"key\": \"user_phone\",\n",
    "            \"value\": f\"79{generation_value(2)}\"\n",
    "                     f\"{generation_value(3)}\"\n",
    "                     f\"{generation_value(2)}\"\n",
    "                     f\"{generation_value(2)}\"\n",
    "        }\n",
    "\n",
    "        user_mail = {\n",
    "            \"key\": \"user_mail\",\n",
    "            \"value\": f\"\"\"{\"\".join(random.choices(string.ascii_letters +\n",
    "                             string.digits, k=10))}@user.io\"\"\"\n",
    "        }\n",
    "\n",
    "        # генерация event_type\n",
    "        event_type = random.choice([\"SUBMIT\", \"REGISTER\", \"SUBMIT_MD5\"])\n",
    "\n",
    "        # генерация event_action\n",
    "        event_action = random.choice([\"pageview\", \"event\", \"login-check-otp\"])\n",
    "\n",
    "        # генерация data_value\n",
    "        if event_type == \"SUBMIT\":\n",
    "            data_value = hashlib.sha256(bytes(inn, encoding=\"utf-8\")).hexdigest()\n",
    "        elif event_type == \"SUBMIT_MD5\":\n",
    "            data_value = hashlib.md5(bytes(inn, encoding=\"utf-8\")).hexdigest()\n",
    "        else:\n",
    "            data_value = None\n",
    "\n",
    "        # генерация страны, города и геопозиции\n",
    "        while True:\n",
    "            try:\n",
    "                geocountry = random.choice(countries)\n",
    "                country = countryinfo.CountryInfo(geocountry[1])\n",
    "                city = country.capital()\n",
    "                geoaltitude = \",\".join(map(str, country.latlng()))\n",
    "                break\n",
    "            except KeyError as e:\n",
    "                logger.error(f\"В списке 'country' отсутствует значение {str(e)}\")\n",
    "\n",
    "        # Генерация meta_platform\n",
    "        meta_platform = random.choice([\"WEB\", \"MOBAIL\"])\n",
    "\n",
    "        # Генерация user_os\n",
    "        if meta_platform == \"WEB\":\n",
    "            user_os = random.choice([\"Mac\", \"Windows\", \"Ubuntu\"])\n",
    "        else:\n",
    "            user_os = random.choice([\"IOS\", \"Android\", \"HarmonyOS\", \"BlackBerryOS\"])\n",
    "        # Генерация systemlanguage\n",
    "        systemlanguage = random.choice([\"RU\", \"ENG\"])\n",
    "\n",
    "        # Генерация screensize\n",
    "        screensize = \"1920x1080\"\n",
    "\n",
    "        # Добавление списков в единый список\n",
    "        list_cookies.append([\n",
    "            inn,\n",
    "            [_sa_cookie_a, _fa_cookie_a, _ym_cookie_c, _fbp,\n",
    "            org_uid, user_uid, user_phone, user_mail],\n",
    "            event_type,\n",
    "            event_action,\n",
    "            data_value,\n",
    "            geocountry[1],\n",
    "            city,\n",
    "            user_os,\n",
    "            systemlanguage,\n",
    "            geoaltitude,\n",
    "            meta_platform,\n",
    "            screensize,\n",
    "            timestampcolumn\n",
    "                             ])\n",
    "    return list_cookies"
   ]
  },
  {
   "cell_type": "code",
   "execution_count": 10,
   "id": "3962f960-c538-4790-856c-454381246876",
   "metadata": {},
   "outputs": [],
   "source": [
    "schema = T.StructType([\n",
    "    T.StructField(\"inn\", T.StringType(), True),\n",
    "    T.StructField(\"raw_cookie\", T.ArrayType(T.MapType(T.StringType(),\n",
    "                                                      T.StringType()))),\n",
    "    T.StructField(\"event_type\", T.StringType(), True),\n",
    "    T.StructField(\"event_action\", T.StringType(), True),\n",
    "    T.StructField(\"data_value\", T.StringType(), True),\n",
    "    T.StructField(\"geocountry\", T.StringType(), True),\n",
    "    T.StructField(\"city\", T.StringType(), True),\n",
    "    T.StructField(\"user_os\", T.StringType(), True),\n",
    "    T.StructField(\"systemlanguage\", T.StringType(), True),\n",
    "    T.StructField(\"geoaltitude\", T.StringType(), True),\n",
    "    T.StructField(\"meta_platform\", T.StringType(), True),\n",
    "    T.StructField(\"screensize\", T.StringType(), True),\n",
    "    T.StructField(\"timestampcolumn\", T.DateType(), True)\n",
    "                       ])"
   ]
  },
  {
   "cell_type": "code",
   "execution_count": 11,
   "id": "54f70885-1334-4d36-b33e-a93e24f1a9ed",
   "metadata": {},
   "outputs": [
    {
     "name": "stderr",
     "output_type": "stream",
     "text": [
      "                                                                                "
     ]
    }
   ],
   "source": [
    "# Цикл генерирует каталоги с файлами в формате JSON согласно партиционирования\n",
    "current_date = date.today()\n",
    "folder = \"data/json/\"\n",
    "i = 0\n",
    "while i < 10:\n",
    "    for _ in range(random.randrange(5, 10)):\n",
    "        df = spark.createDataFrame(generate_rows_table(30, current_date),\n",
    "                                   schema=schema)\n",
    "        df.coalesce(1).write.mode(\"append\") \\\n",
    "            .json(f\"{folder}{current_date.strftime('%Y_%m_%d')}\")\n",
    "\n",
    "    current_date = current_date + timedelta(1)\n",
    "    i = i + 1"
   ]
  },
  {
   "cell_type": "code",
   "execution_count": 12,
   "id": "9fc4eddc-e204-4d13-9455-6236cde06ed2",
   "metadata": {},
   "outputs": [],
   "source": [
    "#df = spark.createDataFrame(generate_rows_table(2000, current_date),schema=schema)\n",
    "#df.write.mode(\"append\").json(f\"{folder}\")"
   ]
  }
 ],
 "metadata": {
  "kernelspec": {
   "display_name": "Python 3 (ipykernel)",
   "language": "python",
   "name": "python3"
  },
  "language_info": {
   "codemirror_mode": {
    "name": "ipython",
    "version": 3
   },
   "file_extension": ".py",
   "mimetype": "text/x-python",
   "name": "python",
   "nbconvert_exporter": "python",
   "pygments_lexer": "ipython3",
   "version": "3.11.12"
  }
 },
 "nbformat": 4,
 "nbformat_minor": 5
}
