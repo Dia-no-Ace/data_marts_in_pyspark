{
 "cells": [
  {
   "cell_type": "markdown",
   "id": "413071da-7de6-4384-af81-572ee99cad4c",
   "metadata": {},
   "source": [
    "# Необходимые импорты и функции"
   ]
  },
  {
   "cell_type": "code",
   "execution_count": 1,
   "id": "d3fc56ed-60f4-44b8-ba5d-c20989c11c46",
   "metadata": {},
   "outputs": [],
   "source": [
    "from pyspark.sql import SparkSession\n",
    "import pyspark.sql.types as T\n",
    "import pyspark.sql.functions as F\n",
    "from pyspark.sql import Window\n",
    "import os"
   ]
  },
  {
   "cell_type": "code",
   "execution_count": 2,
   "id": "08908c87-80f2-4a57-af06-17d03e518ff0",
   "metadata": {},
   "outputs": [
    {
     "name": "stderr",
     "output_type": "stream",
     "text": [
      "Setting default log level to \"WARN\".\n",
      "To adjust logging level use sc.setLogLevel(newLevel). For SparkR, use setLogLevel(newLevel).\n",
      "25/08/21 00:23:46 WARN NativeCodeLoader: Unable to load native-hadoop library for your platform... using builtin-java classes where applicable\n",
      "25/08/21 00:23:46 WARN Utils: Service 'SparkUI' could not bind on port 4040. Attempting port 4041.\n"
     ]
    }
   ],
   "source": [
    "spark = SparkSession.builder.master(\"local[*]\").getOrCreate()\n",
    "spark.conf.set(\"spark.sql.repl.eagerEval.enabled\", True)"
   ]
  },
  {
   "cell_type": "markdown",
   "id": "52934df2-be8e-4808-bf16-270049335797",
   "metadata": {},
   "source": [
    "Объявление схемы данных для дальнейшего считывания JSON файлов и составления Data Frame."
   ]
  },
  {
   "cell_type": "code",
   "execution_count": 3,
   "id": "b2ae6650-3a2d-498a-b2c5-22706172f453",
   "metadata": {},
   "outputs": [],
   "source": [
    "schema = T.StructType([\n",
    "    T.StructField(\"inn\", T.StringType(), True),\n",
    "    T.StructField(\"raw_cookie\", T.ArrayType(T.MapType(T.StringType(),\n",
    "                                                      T.StringType()))),\n",
    "    T.StructField(\"event_type\", T.StringType(), True),\n",
    "    T.StructField(\"event_action\", T.StringType(), True),\n",
    "    T.StructField(\"data_value\", T.StringType(), True),\n",
    "    T.StructField(\"geocountry\", T.StringType(), True),\n",
    "    T.StructField(\"city\", T.StringType(), True),\n",
    "    T.StructField(\"user_os\", T.StringType(), True),\n",
    "    T.StructField(\"systemlanguage\", T.StringType(), True),\n",
    "    T.StructField(\"geoaltitude\", T.StringType(), True),\n",
    "    T.StructField(\"meta_platform\", T.StringType(), True),\n",
    "    T.StructField(\"screensize\", T.StringType(), True),\n",
    "    T.StructField(\"timestampcolumn\", T.DateType(), True)\n",
    "                       ])"
   ]
  },
  {
   "cell_type": "markdown",
   "id": "12ab8883-49c4-406d-bf4b-d8a62b9b33a2",
   "metadata": {},
   "source": [
    "Объявление обязательных переменных, успользуемых в функциях"
   ]
  },
  {
   "cell_type": "code",
   "execution_count": 4,
   "id": "10f50075-f5dc-4b56-b7c0-587fa102961f",
   "metadata": {},
   "outputs": [],
   "source": [
    "PATH_TO_FILES = \"data/json/\"\n",
    "DICT_MATCH_CODE = {\"IOS\": \"IDFA\", \"Android\": \"GAID\"}\n",
    "filenames = sorted(os.listdir(PATH_TO_FILES), reverse=True)"
   ]
  },
  {
   "cell_type": "markdown",
   "id": "722d8bdd-02f7-4b8f-a5a2-b87279146f05",
   "metadata": {},
   "source": [
    "Функция считывания JSON файла"
   ]
  },
  {
   "cell_type": "code",
   "execution_count": 5,
   "id": "79acaea7-dfa5-4b24-9421-8169529f92a5",
   "metadata": {},
   "outputs": [],
   "source": [
    "def read_file_json(file_name, schema_json_file):\n",
    " return spark.read.format(\"json\") \\\n",
    "            .load(f\"{file_name}\", schema=schema_json_file)"
   ]
  },
  {
   "cell_type": "markdown",
   "id": "4afaafd9-6c2e-4a76-b9bd-b72f96aa558b",
   "metadata": {},
   "source": [
    "Функция объединения данных JSON файлов и удаления дубликатов в них. Удаление производится с помощью оконной функции rank. Если встречаются дубликаты по столбцу INN, оставляем запись с более поздней датой."
   ]
  },
  {
   "cell_type": "code",
   "execution_count": 6,
   "id": "6c3903ea-5681-44e1-8150-a37e8c607169",
   "metadata": {},
   "outputs": [],
   "source": [
    "def union_and_dropduplicate(df1, df2):\n",
    "    return (df1.union(df2).withColumn('rank', F.rank()\n",
    "    .over(Window.partitionBy('inn')\n",
    "    .orderBy(F.desc('timestampcolumn'))))\n",
    "                          .filter('rank = 1')\n",
    "                          .drop('rank'))"
   ]
  },
  {
   "cell_type": "markdown",
   "id": "67bc29b8-b4a6-4df1-8c42-1e3027ce3a9c",
   "metadata": {},
   "source": [
    "Функция считывания и создания таблицы из сгенерированных файлов"
   ]
  },
  {
   "cell_type": "code",
   "execution_count": 7,
   "id": "e2d40646-c29f-4cc9-a72c-1d9164eeaac6",
   "metadata": {},
   "outputs": [],
   "source": [
    "def initial_data(schema_json_file: T.StructType, count: int = len(filenames)):\n",
    "    blank_df = spark.createDataFrame([], schema=schema_json_file)\n",
    "    for i in filenames[:count]:\n",
    "        json_file = read_file_json(f\"{PATH_TO_FILES}{i}\", schema_json_file)\n",
    "        blank_df = union_and_dropduplicate(blank_df, json_file)\n",
    "    return blank_df"
   ]
  },
  {
   "cell_type": "markdown",
   "id": "b271da77-16ae-49e3-a53f-8384e1517df1",
   "metadata": {},
   "source": [
    "Функция, предоставляющая возможность получить значение словоря по его ключу"
   ]
  },
  {
   "cell_type": "code",
   "execution_count": 8,
   "id": "8b1429cb-f3fe-4901-a5af-2a8042630beb",
   "metadata": {},
   "outputs": [],
   "source": [
    "def search_values_from_maptype(col_name, key):\n",
    "    return F.expr(f\"filter({col_name}, x -> x.key='{key}')\")[0][\"value\"]"
   ]
  },
  {
   "cell_type": "markdown",
   "id": "241c05ca-b94c-4d50-b3a5-1178fe07951b",
   "metadata": {},
   "source": [
    "Функция преобразования соответствия ОС. Используется в витрине \"G\""
   ]
  },
  {
   "cell_type": "code",
   "execution_count": 9,
   "id": "d353085b-10da-463e-b7c5-18f7c0c48353",
   "metadata": {},
   "outputs": [],
   "source": [
    "@F.udf\n",
    "def match_code(x):\n",
    "    return DICT_MATCH_CODE.get(x, None)"
   ]
  },
  {
   "cell_type": "markdown",
   "id": "5d4a07ec-c141-44cf-96c0-2f8ca2a47e33",
   "metadata": {},
   "source": [
    "Чтобы не обращаться постоянно к функции, считывание данных занесем в переменную \"initial_data_df\""
   ]
  },
  {
   "cell_type": "code",
   "execution_count": 10,
   "id": "ae30543f-1bd3-4038-ad2a-52eaab9ff126",
   "metadata": {},
   "outputs": [],
   "source": [
    "initial_data_df = initial_data(schema).select(\"*\")"
   ]
  },
  {
   "cell_type": "markdown",
   "id": "c94e9457-a0a5-420e-8ca4-8ccac6d14347",
   "metadata": {},
   "source": [
    "# Витрина А"
   ]
  },
  {
   "cell_type": "markdown",
   "id": "cadf94d8-335b-4591-8e4d-afbbcf860b75",
   "metadata": {},
   "source": [
    "Данная витрина - это наша сгенерированная таблица без поля \"INN\"."
   ]
  },
  {
   "cell_type": "code",
   "execution_count": 11,
   "id": "ad7180eb-63dc-43c9-ac83-cfce41a53dce",
   "metadata": {},
   "outputs": [
    {
     "name": "stderr",
     "output_type": "stream",
     "text": [
      "[Stage 0:==============================>                           (8 + 7) / 15]"
     ]
    },
    {
     "name": "stdout",
     "output_type": "stream",
     "text": [
      "+------------------------------------------------------------------------------------------------------------------------------------------------------------------------------------------------------------------------------------------------------------------------------------------------------------------------------------------------------------------------------------------------------------------------------------+----------+---------------+----------------------------------------------------------------+-----------+---------+---------+--------------+-----------+-------------+----------+---------------+\n",
      "|raw_cookie                                                                                                                                                                                                                                                                                                                                                                                                                          |event_type|event_action   |data_value                                                      |geocountry |city     |user_os  |systemlanguage|geoaltitude|meta_platform|screensize|timestampcolumn|\n",
      "+------------------------------------------------------------------------------------------------------------------------------------------------------------------------------------------------------------------------------------------------------------------------------------------------------------------------------------------------------------------------------------------------------------------------------------+----------+---------------+----------------------------------------------------------------+-----------+---------+---------+--------------+-----------+-------------+----------+---------------+\n",
      "|[{value -> SA1.b054f0e6-823b-4edb-a5a6-d7c3321083bd.9326956899, key -> _sa_cookie_a}, {value -> ads2.9304514055.3149637554, key -> _fa_cookie_a}, {value -> [82460347600521722477], key -> _ym_cookie_c}, {value -> fb.1.8163009474863.281777995, key -> _fbp}, {value -> 8174308, key -> org_uid}, {value -> 5214552, key -> user_uid}, {value -> 79115508683, key -> user_phone}, {value -> 9oGRR36Wrk@user.io, key -> user_mail}]|REGISTER  |event          |null                                                            |Israel     |Jerusalem|Mac      |RU            |31.5,34.75 |WEB          |1920x1080 |2025-08-23     |\n",
      "|[{value -> SA1.4ca71a23-bbcd-4c53-a0a3-5149a74ea148.8495845066, key -> _sa_cookie_a}, {value -> ads2.5960067768.0075821927, key -> _fa_cookie_a}, {value -> [70701866164352979243], key -> _ym_cookie_c}, {value -> fb.8.0642719432959.751874013, key -> _fbp}, {value -> 1821199, key -> org_uid}, {value -> 3994681, key -> user_uid}, {value -> 79869946813, key -> user_phone}, {value -> XZij9txT8j@user.io, key -> user_mail}]|SUBMIT    |login-check-otp|fcda22fbfda09ece5ef9806989e9dd06db17e7cf2bff682eeda4fb9f17398726|Afghanistan|Kabul    |Ubuntu   |RU            |33,65      |WEB          |1920x1080 |2025-08-21     |\n",
      "|[{value -> SA1.e90d1455-90a7-461e-8d79-aa758b1e5a1c.4081202188, key -> _sa_cookie_a}, {value -> ads2.0655992040.7251107848, key -> _fa_cookie_a}, {value -> [75930804797740132490], key -> _ym_cookie_c}, {value -> fb.7.3180571749714.341986265, key -> _fbp}, {value -> 8529853, key -> org_uid}, {value -> 6679326, key -> user_uid}, {value -> 79499077455, key -> user_phone}, {value -> pCgeEfQvkp@user.io, key -> user_mail}]|SUBMIT    |pageview       |906af079bdc3a54634c3a679fe03aee119f42488a358a307ed06c08070871b0e|Armenia    |Yerevan  |HarmonyOS|ENG           |40,45      |MOBAIL       |1920x1080 |2025-08-28     |\n",
      "|[{value -> SA1.2ccbfea7-6613-424d-81bf-ccd3466527fe.3812484808, key -> _sa_cookie_a}, {value -> ads2.6296480547.7305849869, key -> _fa_cookie_a}, {value -> [18103006281772376497], key -> _ym_cookie_c}, {value -> fb.0.8648429361090.545027303, key -> _fbp}, {value -> 9495816, key -> org_uid}, {value -> 5083195, key -> user_uid}, {value -> 79641152732, key -> user_phone}, {value -> vk61cmptQx@user.io, key -> user_mail}]|SUBMIT_MD5|event          |e6792c380b465a998e2934eea15f1534                                |Afghanistan|Kabul    |Mac      |RU            |33,65      |WEB          |1920x1080 |2025-08-21     |\n",
      "|[{value -> SA1.a451da49-aa8d-4ea8-8847-46e0ad77bc2a.0123935759, key -> _sa_cookie_a}, {value -> ads2.9618704064.7453900410, key -> _fa_cookie_a}, {value -> [87309271128546438701], key -> _ym_cookie_c}, {value -> fb.9.1263975696837.439312952, key -> _fbp}, {value -> 3006651, key -> org_uid}, {value -> 0900790, key -> user_uid}, {value -> 79694365991, key -> user_phone}, {value -> kgOiM2yNLM@user.io, key -> user_mail}]|REGISTER  |login-check-otp|null                                                            |Afghanistan|Kabul    |Ubuntu   |RU            |33,65      |WEB          |1920x1080 |2025-08-23     |\n",
      "+------------------------------------------------------------------------------------------------------------------------------------------------------------------------------------------------------------------------------------------------------------------------------------------------------------------------------------------------------------------------------------------------------------------------------------+----------+---------------+----------------------------------------------------------------+-----------+---------+---------+--------------+-----------+-------------+----------+---------------+\n",
      "only showing top 5 rows\n",
      "\n"
     ]
    },
    {
     "name": "stderr",
     "output_type": "stream",
     "text": [
      "                                                                                "
     ]
    }
   ],
   "source": [
    "data_mart_a = initial_data_df.drop('inn')\n",
    "data_mart_a.show(5, truncate=False)"
   ]
  },
  {
   "cell_type": "markdown",
   "id": "e7c3ebb2-f07a-4b18-a77e-a0a07cf14bc6",
   "metadata": {},
   "source": [
    "# Витрина B"
   ]
  },
  {
   "cell_type": "markdown",
   "id": "0288c649-c847-43f6-9c27-1931ba5fb282",
   "metadata": {},
   "source": [
    "В данной витрине необходимо найти все \"INN\" пользователей. Для поля \"ID\" в данной витрине была примена оконная функция в качестве примера, в последующих витринах оконных функций использовано не будет из-за их долгой работы при сортировке данных."
   ]
  },
  {
   "cell_type": "code",
   "execution_count": 12,
   "id": "7ad9305c-b414-4efe-8c2c-8ea55cbb6529",
   "metadata": {},
   "outputs": [
    {
     "name": "stderr",
     "output_type": "stream",
     "text": [
      "25/08/21 00:24:06 WARN WindowExec: No Partition Defined for Window operation! Moving all data to a single partition, this can cause serious performance degradation.\n",
      "25/08/21 00:24:06 WARN WindowExec: No Partition Defined for Window operation! Moving all data to a single partition, this can cause serious performance degradation.\n",
      "25/08/21 00:24:06 WARN WindowExec: No Partition Defined for Window operation! Moving all data to a single partition, this can cause serious performance degradation.\n",
      "25/08/21 00:24:06 WARN WindowExec: No Partition Defined for Window operation! Moving all data to a single partition, this can cause serious performance degradation.\n",
      "25/08/21 00:24:06 WARN WindowExec: No Partition Defined for Window operation! Moving all data to a single partition, this can cause serious performance degradation.\n",
      "25/08/21 00:24:06 WARN WindowExec: No Partition Defined for Window operation! Moving all data to a single partition, this can cause serious performance degradation.\n",
      "25/08/21 00:24:06 WARN WindowExec: No Partition Defined for Window operation! Moving all data to a single partition, this can cause serious performance degradation.\n",
      "25/08/21 00:24:06 WARN WindowExec: No Partition Defined for Window operation! Moving all data to a single partition, this can cause serious performance degradation.\n",
      "25/08/21 00:24:06 WARN WindowExec: No Partition Defined for Window operation! Moving all data to a single partition, this can cause serious performance degradation.\n",
      "25/08/21 00:24:07 WARN WindowExec: No Partition Defined for Window operation! Moving all data to a single partition, this can cause serious performance degradation.\n",
      "25/08/21 00:24:07 WARN WindowExec: No Partition Defined for Window operation! Moving all data to a single partition, this can cause serious performance degradation.\n",
      "25/08/21 00:24:07 WARN WindowExec: No Partition Defined for Window operation! Moving all data to a single partition, this can cause serious performance degradation.\n",
      "25/08/21 00:24:07 WARN WindowExec: No Partition Defined for Window operation! Moving all data to a single partition, this can cause serious performance degradation.\n",
      "25/08/21 00:24:07 WARN WindowExec: No Partition Defined for Window operation! Moving all data to a single partition, this can cause serious performance degradation.\n",
      "25/08/21 00:24:07 WARN WindowExec: No Partition Defined for Window operation! Moving all data to a single partition, this can cause serious performance degradation.\n",
      "25/08/21 00:24:07 WARN WindowExec: No Partition Defined for Window operation! Moving all data to a single partition, this can cause serious performance degradation.\n",
      "25/08/21 00:24:07 WARN WindowExec: No Partition Defined for Window operation! Moving all data to a single partition, this can cause serious performance degradation.\n",
      "25/08/21 00:24:07 WARN WindowExec: No Partition Defined for Window operation! Moving all data to a single partition, this can cause serious performance degradation.\n",
      "25/08/21 00:24:07 WARN WindowExec: No Partition Defined for Window operation! Moving all data to a single partition, this can cause serious performance degradation.\n",
      "25/08/21 00:24:07 WARN WindowExec: No Partition Defined for Window operation! Moving all data to a single partition, this can cause serious performance degradation.\n",
      "25/08/21 00:24:07 WARN WindowExec: No Partition Defined for Window operation! Moving all data to a single partition, this can cause serious performance degradation.\n",
      "25/08/21 00:24:08 WARN WindowExec: No Partition Defined for Window operation! Moving all data to a single partition, this can cause serious performance degradation.\n",
      "25/08/21 00:24:08 WARN WindowExec: No Partition Defined for Window operation! Moving all data to a single partition, this can cause serious performance degradation.\n",
      "25/08/21 00:24:08 WARN WindowExec: No Partition Defined for Window operation! Moving all data to a single partition, this can cause serious performance degradation.\n"
     ]
    },
    {
     "name": "stdout",
     "output_type": "stream",
     "text": [
      "+---+------------+\n",
      "| id|         inn|\n",
      "+---+------------+\n",
      "|  1|999913627903|\n",
      "|  2|999738417751|\n",
      "|  3|999607920885|\n",
      "|  4|999530476502|\n",
      "|  5|999420201902|\n",
      "+---+------------+\n",
      "only showing top 5 rows\n",
      "\n"
     ]
    }
   ],
   "source": [
    "# удалять cookie по INN\n",
    "\n",
    "data_mart_b = initial_data_df.select(\n",
    "    F.row_number().over(\n",
    "        Window.orderBy(\n",
    "            F.col('inn').desc()\n",
    "            )\n",
    "        ).alias(\"id\"),\n",
    "        \"inn\"\n",
    "  )\n",
    "data_mart_b.show(5)"
   ]
  },
  {
   "cell_type": "markdown",
   "id": "6def3882-1d84-4464-a367-8ad7a404d847",
   "metadata": {},
   "source": [
    "# Витрина С"
   ]
  },
  {
   "cell_type": "markdown",
   "id": "5579e0a0-a035-4f8d-bda3-e28a790e67a7",
   "metadata": {},
   "source": [
    "В данной витрине необходимо собрать куки сайта _sa_cookie_a, которые необходимо извлечь из поля raw_cookies. Для этого использовалась функция \"pyspark.sql.functions.expr\", в которую передовалось сгенирированное значение из функции \"search_values_from_maptype\". Для генерации ID используется метод \"monotonically_increasing_id\". В последующий витринах используются эти функции."
   ]
  },
  {
   "cell_type": "code",
   "execution_count": 13,
   "id": "b2ce689f-78a0-46a6-8028-aaf719afff8b",
   "metadata": {},
   "outputs": [
    {
     "name": "stdout",
     "output_type": "stream",
     "text": [
      "+---+--------------------+\n",
      "| id|         sa_cookie_a|\n",
      "+---+--------------------+\n",
      "|  1|SA1.b054f0e6-823b...|\n",
      "|  2|SA1.4ca71a23-bbcd...|\n",
      "|  3|SA1.e90d1455-90a7...|\n",
      "|  4|SA1.2ccbfea7-6613...|\n",
      "|  5|SA1.a451da49-aa8d...|\n",
      "+---+--------------------+\n",
      "only showing top 5 rows\n",
      "\n"
     ]
    }
   ],
   "source": [
    "data_mart_c = initial_data_df.select(\n",
    "  (F.monotonically_increasing_id() + 1).alias(\"id\"),\n",
    "  search_values_from_maptype(\"raw_cookie\", \"_sa_cookie_a\").alias(\"sa_cookie_a\"))\n",
    "data_mart_c.show(5)"
   ]
  },
  {
   "cell_type": "markdown",
   "id": "c1e551fa-a84b-4c84-94d8-56bccf60738c",
   "metadata": {},
   "source": [
    "# Витрина D"
   ]
  },
  {
   "cell_type": "markdown",
   "id": "12bfc9c7-c7c8-4b6e-a2b9-e74237c2dcce",
   "metadata": {},
   "source": [
    "Тоже самое что и в витрине \"В\". Подразумевается, что к этому моменту поступили еще дополнительные JSON файлы, которые не пересекутся с витриной \"В\" при объединении."
   ]
  },
  {
   "cell_type": "code",
   "execution_count": 14,
   "id": "837abe99-64d7-41c6-b495-bbcd4aed267c",
   "metadata": {},
   "outputs": [
    {
     "name": "stdout",
     "output_type": "stream",
     "text": [
      "+---+------------+\n",
      "|id |inn         |\n",
      "+---+------------+\n",
      "|1  |000721449767|\n",
      "|2  |000742955042|\n",
      "|3  |001749892036|\n",
      "|4  |001933019954|\n",
      "|5  |002132457813|\n",
      "+---+------------+\n",
      "only showing top 5 rows\n",
      "\n"
     ]
    }
   ],
   "source": [
    "data_mart_d = initial_data_df.select(\n",
    "    (F.monotonically_increasing_id() + 1).alias(\"id\"),\n",
    "    \"inn\"\n",
    ")\n",
    "data_mart_d.show(5, truncate=False)"
   ]
  },
  {
   "cell_type": "markdown",
   "id": "3438159d-ac99-4c12-9d58-48d054242808",
   "metadata": {},
   "source": [
    "# Витрина Е"
   ]
  },
  {
   "cell_type": "markdown",
   "id": "a722b37e-dbfc-4bba-8615-df0c43fd2c35",
   "metadata": {},
   "source": [
    "Необходимо найти телефон пользователя и захешировать его алгоритмом хешировани md5. Делается это с помощью встроеной функции \"pyspark.sql.functions.md5\""
   ]
  },
  {
   "cell_type": "code",
   "execution_count": 15,
   "id": "a51122eb-5cf2-4354-922f-6501debdcddc",
   "metadata": {},
   "outputs": [
    {
     "name": "stdout",
     "output_type": "stream",
     "text": [
      "+---+--------------------------------+\n",
      "|ID |hash_phone_md5                  |\n",
      "+---+--------------------------------+\n",
      "|1  |105170ecec86e071c67e78310c566c28|\n",
      "|2  |d20811454482a79cdc76426605cd84ea|\n",
      "|3  |1eb868434588ad97675b2e535557a202|\n",
      "|4  |a939f1684e30386d48350c0700bae051|\n",
      "|5  |776d4d58d98ed74f0fe3bc0b254a6c32|\n",
      "+---+--------------------------------+\n",
      "only showing top 5 rows\n",
      "\n"
     ]
    }
   ],
   "source": [
    "data_mart_e = initial_data_df.select(\n",
    "    (F.monotonically_increasing_id() + 1).alias(\"ID\"),\n",
    "    F.md5(search_values_from_maptype(\"raw_cookie\", \"user_phone\"))\n",
    "      .alias(\"hash_phone_md5\")\n",
    ")\n",
    "\n",
    "data_mart_e.show(5, truncate=False)"
   ]
  },
  {
   "cell_type": "markdown",
   "id": "11aff7ae-4330-4561-8302-cc323b24ab9d",
   "metadata": {},
   "source": [
    "# Витрина F"
   ]
  },
  {
   "cell_type": "markdown",
   "id": "d14a8282-ea12-46a3-8808-b90fff2202f1",
   "metadata": {},
   "source": [
    "Тоже самое что и в витрине \"E\", только с полем \"user_mail\"."
   ]
  },
  {
   "cell_type": "code",
   "execution_count": 16,
   "id": "4c837a89-e116-41c0-8059-fc5fca8dfddd",
   "metadata": {},
   "outputs": [
    {
     "name": "stdout",
     "output_type": "stream",
     "text": [
      "+---+--------------------------------+\n",
      "|ID |hash_email_md5                  |\n",
      "+---+--------------------------------+\n",
      "|1  |c7d6779455254d39a599902eb2941290|\n",
      "|2  |352b3682878d2f82da2336c58a95b308|\n",
      "|3  |998d3fc0721a82d5feafd0cebe584e45|\n",
      "|4  |0579aebffd8596b706de97f5f109d535|\n",
      "|5  |870eef13c4b08dea6e1678309b33dbe4|\n",
      "+---+--------------------------------+\n",
      "only showing top 5 rows\n",
      "\n"
     ]
    }
   ],
   "source": [
    "data_mart_f = initial_data_df.select(\n",
    "    (F.monotonically_increasing_id() + 1).alias(\"ID\"),\n",
    "    F.md5(search_values_from_maptype(\"raw_cookie\", \"user_mail\"))\n",
    "      .alias(\"hash_email_md5\")\n",
    ")\n",
    "\n",
    "data_mart_f.show(5, truncate=False)"
   ]
  },
  {
   "cell_type": "markdown",
   "id": "a34ec2a7-220e-4475-87e7-355a5598c2d1",
   "metadata": {},
   "source": [
    "# Витрина G"
   ]
  },
  {
   "cell_type": "markdown",
   "id": "881e9893-284f-4a80-9288-31af508bd681",
   "metadata": {},
   "source": [
    "Вытаскиваем user_uid из поля raw_cookie, заменяем значение в поле user_os через функцию \"match_code\". Создаем новую колонку match_code, принимающую одно из двух значений: GAID или IDFA в зависимости от ОС пользователя. "
   ]
  },
  {
   "cell_type": "code",
   "execution_count": 17,
   "id": "bdcb6baf-448e-4e47-bc2a-eaedc29542fa",
   "metadata": {},
   "outputs": [
    {
     "name": "stdout",
     "output_type": "stream",
     "text": [
      "+---+--------+----------+\n",
      "|ID |user_uid|match_code|\n",
      "+---+--------+----------+\n",
      "|1  |5214552 |null      |\n",
      "|2  |3994681 |null      |\n",
      "|3  |6679326 |null      |\n",
      "|4  |5083195 |null      |\n",
      "|5  |0900790 |null      |\n",
      "+---+--------+----------+\n",
      "only showing top 5 rows\n",
      "\n"
     ]
    }
   ],
   "source": [
    "data_mart_g = initial_data_df.select(\n",
    "    (F.monotonically_increasing_id() + 1).alias(\"ID\"),\n",
    "    search_values_from_maptype(\"raw_cookie\", \"user_uid\")\n",
    "      .alias(\"user_uid\"),\n",
    "    match_code(\"user_os\").alias(\"match_code\")\n",
    ")\n",
    "\n",
    "data_mart_g.show(5, truncate=False)"
   ]
  },
  {
   "cell_type": "markdown",
   "id": "6ed4cc1f-447b-493a-8df9-27bd1b52a9ce",
   "metadata": {},
   "source": [
    "# Итоговая объединенная витрина"
   ]
  },
  {
   "cell_type": "code",
   "execution_count": 18,
   "id": "251f7d2a-b3c4-4d5b-aebf-c16f2f78e570",
   "metadata": {},
   "outputs": [
    {
     "name": "stderr",
     "output_type": "stream",
     "text": [
      "25/08/21 00:24:55 WARN WindowExec: No Partition Defined for Window operation! Moving all data to a single partition, this can cause serious performance degradation.\n",
      "25/08/21 00:24:55 WARN WindowExec: No Partition Defined for Window operation! Moving all data to a single partition, this can cause serious performance degradation.\n",
      "25/08/21 00:24:55 WARN WindowExec: No Partition Defined for Window operation! Moving all data to a single partition, this can cause serious performance degradation.\n",
      "25/08/21 00:24:55 WARN WindowExec: No Partition Defined for Window operation! Moving all data to a single partition, this can cause serious performance degradation.\n",
      "25/08/21 00:24:56 WARN WindowExec: No Partition Defined for Window operation! Moving all data to a single partition, this can cause serious performance degradation.\n",
      "25/08/21 00:24:56 WARN WindowExec: No Partition Defined for Window operation! Moving all data to a single partition, this can cause serious performance degradation.\n",
      "25/08/21 00:24:56 WARN WindowExec: No Partition Defined for Window operation! Moving all data to a single partition, this can cause serious performance degradation.\n",
      "25/08/21 00:24:56 WARN WindowExec: No Partition Defined for Window operation! Moving all data to a single partition, this can cause serious performance degradation.\n",
      "25/08/21 00:24:56 WARN WindowExec: No Partition Defined for Window operation! Moving all data to a single partition, this can cause serious performance degradation.\n",
      "25/08/21 00:24:56 WARN WindowExec: No Partition Defined for Window operation! Moving all data to a single partition, this can cause serious performance degradation.\n",
      "25/08/21 00:24:56 WARN WindowExec: No Partition Defined for Window operation! Moving all data to a single partition, this can cause serious performance degradation.\n",
      "25/08/21 00:24:56 WARN WindowExec: No Partition Defined for Window operation! Moving all data to a single partition, this can cause serious performance degradation.\n",
      "25/08/21 00:24:56 WARN WindowExec: No Partition Defined for Window operation! Moving all data to a single partition, this can cause serious performance degradation.\n",
      "25/08/21 00:24:56 WARN WindowExec: No Partition Defined for Window operation! Moving all data to a single partition, this can cause serious performance degradation.\n",
      "25/08/21 00:24:56 WARN WindowExec: No Partition Defined for Window operation! Moving all data to a single partition, this can cause serious performance degradation.\n",
      "25/08/21 00:24:56 WARN WindowExec: No Partition Defined for Window operation! Moving all data to a single partition, this can cause serious performance degradation.\n",
      "25/08/21 00:24:56 WARN WindowExec: No Partition Defined for Window operation! Moving all data to a single partition, this can cause serious performance degradation.\n",
      "25/08/21 00:24:56 WARN WindowExec: No Partition Defined for Window operation! Moving all data to a single partition, this can cause serious performance degradation.\n",
      "25/08/21 00:24:56 WARN WindowExec: No Partition Defined for Window operation! Moving all data to a single partition, this can cause serious performance degradation.\n",
      "25/08/21 00:24:56 WARN WindowExec: No Partition Defined for Window operation! Moving all data to a single partition, this can cause serious performance degradation.\n",
      "25/08/21 00:24:57 WARN WindowExec: No Partition Defined for Window operation! Moving all data to a single partition, this can cause serious performance degradation.\n",
      "25/08/21 00:24:57 WARN WindowExec: No Partition Defined for Window operation! Moving all data to a single partition, this can cause serious performance degradation.\n",
      "25/08/21 00:24:57 WARN WindowExec: No Partition Defined for Window operation! Moving all data to a single partition, this can cause serious performance degradation.\n",
      "25/08/21 00:24:57 WARN WindowExec: No Partition Defined for Window operation! Moving all data to a single partition, this can cause serious performance degradation.\n",
      "25/08/21 00:24:57 WARN WindowExec: No Partition Defined for Window operation! Moving all data to a single partition, this can cause serious performance degradation.\n",
      "25/08/21 00:24:57 WARN WindowExec: No Partition Defined for Window operation! Moving all data to a single partition, this can cause serious performance degradation.\n",
      "25/08/21 00:24:57 WARN WindowExec: No Partition Defined for Window operation! Moving all data to a single partition, this can cause serious performance degradation.\n",
      "25/08/21 00:24:57 WARN WindowExec: No Partition Defined for Window operation! Moving all data to a single partition, this can cause serious performance degradation.\n",
      "25/08/21 00:24:57 WARN WindowExec: No Partition Defined for Window operation! Moving all data to a single partition, this can cause serious performance degradation.\n",
      "25/08/21 00:24:57 WARN WindowExec: No Partition Defined for Window operation! Moving all data to a single partition, this can cause serious performance degradation.\n",
      "25/08/21 00:24:57 WARN WindowExec: No Partition Defined for Window operation! Moving all data to a single partition, this can cause serious performance degradation.\n",
      "25/08/21 00:24:57 WARN WindowExec: No Partition Defined for Window operation! Moving all data to a single partition, this can cause serious performance degradation.\n",
      "25/08/21 00:24:57 WARN WindowExec: No Partition Defined for Window operation! Moving all data to a single partition, this can cause serious performance degradation.\n",
      "25/08/21 00:24:57 WARN WindowExec: No Partition Defined for Window operation! Moving all data to a single partition, this can cause serious performance degradation.\n",
      "25/08/21 00:24:57 WARN WindowExec: No Partition Defined for Window operation! Moving all data to a single partition, this can cause serious performance degradation.\n",
      "25/08/21 00:24:58 WARN WindowExec: No Partition Defined for Window operation! Moving all data to a single partition, this can cause serious performance degradation.\n",
      "25/08/21 00:24:58 WARN WindowExec: No Partition Defined for Window operation! Moving all data to a single partition, this can cause serious performance degradation.\n",
      "25/08/21 00:24:58 WARN WindowExec: No Partition Defined for Window operation! Moving all data to a single partition, this can cause serious performance degradation.\n",
      "25/08/21 00:24:58 WARN WindowExec: No Partition Defined for Window operation! Moving all data to a single partition, this can cause serious performance degradation.\n",
      "25/08/21 00:24:58 WARN WindowExec: No Partition Defined for Window operation! Moving all data to a single partition, this can cause serious performance degradation.\n",
      "25/08/21 00:24:58 WARN WindowExec: No Partition Defined for Window operation! Moving all data to a single partition, this can cause serious performance degradation.\n",
      "25/08/21 00:24:58 WARN WindowExec: No Partition Defined for Window operation! Moving all data to a single partition, this can cause serious performance degradation.\n",
      "25/08/21 00:24:58 WARN WindowExec: No Partition Defined for Window operation! Moving all data to a single partition, this can cause serious performance degradation.\n",
      "25/08/21 00:24:58 WARN WindowExec: No Partition Defined for Window operation! Moving all data to a single partition, this can cause serious performance degradation.\n",
      "25/08/21 00:24:58 WARN WindowExec: No Partition Defined for Window operation! Moving all data to a single partition, this can cause serious performance degradation.\n",
      "25/08/21 00:24:58 WARN WindowExec: No Partition Defined for Window operation! Moving all data to a single partition, this can cause serious performance degradation.\n",
      "25/08/21 00:24:58 WARN WindowExec: No Partition Defined for Window operation! Moving all data to a single partition, this can cause serious performance degradation.\n",
      "25/08/21 00:24:58 WARN WindowExec: No Partition Defined for Window operation! Moving all data to a single partition, this can cause serious performance degradation.\n"
     ]
    },
    {
     "name": "stdout",
     "output_type": "stream",
     "text": [
      "+--------+------------+----------------------------------------------------------------+--------------------------------+--------------------------------+-----------+------------------+-------+----+----+----+----+----+----+---------------------------------------------------------------------------------------------------------------------------------------+\n",
      "|user_uid|inn         |inn_hash                                                        |hash_phone_md5                  |hash_email_md5                  |user_phone |user_email        |org_uid|id_d|id_c|id_b|id_e|id_f|id_g|array_coockie                                                                                                                          |\n",
      "+--------+------------+----------------------------------------------------------------+--------------------------------+--------------------------------+-----------+------------------+-------+----+----+----+----+----+----+---------------------------------------------------------------------------------------------------------------------------------------+\n",
      "|null    |000721449767|null                                                            |null                            |null                            |null       |null              |null   |1   |null|null|null|null|null|[null, null, null, null]                                                                                                               |\n",
      "|3994681 |000742955042|fcda22fbfda09ece5ef9806989e9dd06db17e7cf2bff682eeda4fb9f17398726|d20811454482a79cdc76426605cd84ea|352b3682878d2f82da2336c58a95b308|79869946813|XZij9txT8j@user.io|1821199|2   |2   |2879|2   |2   |2   |[SA1.4ca71a23-bbcd-4c53-a0a3-5149a74ea148.8495845066, ads2.5960067768.0075821927, [70701866164352979243], fb.8.0642719432959.751874013]|\n",
      "|6679326 |001749892036|906af079bdc3a54634c3a679fe03aee119f42488a358a307ed06c08070871b0e|1eb868434588ad97675b2e535557a202|998d3fc0721a82d5feafd0cebe584e45|79499077455|pCgeEfQvkp@user.io|8529853|3   |3   |2878|3   |3   |3   |[SA1.e90d1455-90a7-461e-8d79-aa758b1e5a1c.4081202188, ads2.0655992040.7251107848, [75930804797740132490], fb.7.3180571749714.341986265]|\n",
      "|5083195 |001933019954|e6792c380b465a998e2934eea15f1534                                |a939f1684e30386d48350c0700bae051|0579aebffd8596b706de97f5f109d535|79641152732|vk61cmptQx@user.io|9495816|4   |4   |2877|4   |4   |4   |[SA1.2ccbfea7-6613-424d-81bf-ccd3466527fe.3812484808, ads2.6296480547.7305849869, [18103006281772376497], fb.0.8648429361090.545027303]|\n",
      "|null    |002132457813|null                                                            |null                            |null                            |null       |null              |null   |5   |null|null|null|null|null|[null, null, null, null]                                                                                                               |\n",
      "|8672802 |002191064886|43c199569fa24ae93bb51afd76b8e4fd                                |320028d7ea0649c76c487115fc944b94|0cf47ee24dbac0445f117985a9e51644|79553086972|ecmEu88dWy@user.io|6303738|6   |6   |2875|6   |6   |6   |[SA1.b03d1d70-2fff-4302-97fc-179df499cde4.8711546446, ads2.3936413185.1142056608, [01895693650144416872], fb.3.7364617943779.867226727]|\n",
      "|2074458 |002319138467|e3b004557691c1650cf7040fd604bd537972b05d8d7934baca0fc5b0a484c3c4|7d919519b25e741545d41e1f67e88416|084581099cea3a1522728cad457596fe|79811255249|s5EI9PKgm6@user.io|2680571|7   |7   |2874|7   |7   |7   |[SA1.4265aff6-08ab-4667-9d15-a0bf7441d534.9892673976, ads2.5388875794.5945540955, [37160028691888295985], fb.7.1294056398101.978281385]|\n",
      "|7994731 |002356849625|6d189a9650713b82eeb22eb4563b1378                                |9f8f1f8a782ec9cee1e0a91c029c4631|f1d702d42f8339d13fb28247172b856e|79765486656|wSqlzPCEvI@user.io|5123112|8   |8   |2873|8   |8   |8   |[SA1.746731ab-594e-4b72-afa8-1efea11cb392.8346959956, ads2.3422082891.4951697982, [12199402530775840146], fb.9.8883603261946.655845577]|\n",
      "|2395784 |002539329542|2df73ea36ee84cde480a7c6a064613875ec8f8ee7cfcfbae8a2f7729218a31d3|a0b12e957a5a5b285a4e21cb521138a1|8d0759adab7a40d574a415ed110e113f|79319906494|7n5Pbhb8ZA@user.io|4286834|9   |9   |2872|9   |9   |9   |[SA1.ebeae05e-a998-4686-b849-d8926781b29c.6504299108, ads2.1543743670.4078020780, [53482704043055914154], fb.4.8984897815395.588538445]|\n",
      "|3626777 |003603035824|898e3e25311224aed03998331427931d                                |cedca00d544386a445f65b5afa73b35f|9fc5c1d8255d65f079895b7ccf6ca69b|79352846093|cd06YsVlNI@user.io|0926083|10  |10  |2871|10  |10  |10  |[SA1.d2b481c6-4be7-4dca-b544-b23cb3311d1d.6411244439, ads2.4862084160.6830825940, [05656190301273997554], fb.3.2755229035070.145146299]|\n",
      "+--------+------------+----------------------------------------------------------------+--------------------------------+--------------------------------+-----------+------------------+-------+----+----+----+----+----+----+---------------------------------------------------------------------------------------------------------------------------------------+\n",
      "only showing top 10 rows\n",
      "\n"
     ]
    }
   ],
   "source": [
    "main_marts = (\n",
    "    data_mart_a.select('raw_cookie','data_value').alias(\"df_a\")\n",
    "    .join(\n",
    "        data_mart_d.alias(\"df_d\"),\n",
    "        on=(\n",
    "            (F.md5(F.col(\"df_d.inn\")) == F.col(\"df_a.data_value\")) |\n",
    "            (F.sha2(F.col(\"df_d.inn\"), 256) == F.col(\"df_a.data_value\"))\n",
    "            ),\n",
    "        how='right'\n",
    "      )\n",
    "    .join(\n",
    "        data_mart_b.alias(\"df_b\"),\n",
    "        on=(\n",
    "            (F.md5(F.col(\"df_b.inn\")) == F.col(\"df_a.data_value\")) |\n",
    "            (F.sha2(F.col(\"df_b.inn\"), 256) == F.col(\"df_a.data_value\"))\n",
    "           ),\n",
    "        how=\"left\"\n",
    "      )\n",
    "    .join(\n",
    "        data_mart_e.alias(\"df_e\"),\n",
    "        on = (\n",
    "           F.md5(search_values_from_maptype(\"raw_cookie\",\n",
    "                                \"user_phone\")) == F.col(\"df_e.hash_phone_md5\")),\n",
    "        how =\"left\"\n",
    "      )\n",
    "    .join(\n",
    "        data_mart_f.alias('df_f'),\n",
    "        on = (\n",
    "            F.md5(search_values_from_maptype(\"raw_cookie\",\n",
    "                                 \"user_mail\")) == F.col(\"df_f.hash_email_md5\")),\n",
    "        how = \"left\"\n",
    "      )\n",
    "    .join(\n",
    "        data_mart_g.alias(\"df_g\"),\n",
    "        on = (\n",
    "              search_values_from_maptype(\"raw_cookie\",\n",
    "                                         \"user_uid\") == F.col(\"df_g.user_uid\")),\n",
    "        how = \"left\"\n",
    "      )\n",
    "    .join(\n",
    "        data_mart_c.alias('df_c'),\n",
    "        on = (search_values_from_maptype(\"raw_cookie\",\n",
    "                                  \"_sa_cookie_a\") == F.col(\"df_c.sa_cookie_a\")),\n",
    "        how = \"left\"\n",
    "      )\n",
    "    .select(F.col(\"df_g.user_uid\"),\n",
    "            F.col(\"df_d.inn\").alias(\"inn\"),\n",
    "            F.col(\"df_a.data_value\").alias(\"inn_hash\"),\n",
    "            F.col(\"df_e.hash_phone_md5\"),\n",
    "            F.col(\"df_f.hash_email_md5\"),\n",
    "            search_values_from_maptype(\"raw_cookie\",\n",
    "                                       \"user_phone\").alias(\"user_phone\"),\n",
    "            search_values_from_maptype(\"raw_cookie\",\n",
    "                                       \"user_mail\").alias(\"user_email\"),\n",
    "            search_values_from_maptype(\"raw_cookie\",\n",
    "                                       \"org_uid\").alias(\"org_uid\"),\n",
    "            F.col(\"df_d.id\").alias(\"id_d\"),\n",
    "            F.col(\"df_c.id\").alias(\"id_c\"),\n",
    "            F.col(\"df_b.id\").alias(\"id_b\"),\n",
    "            F.col(\"df_e.id\").alias(\"id_e\"),\n",
    "            F.col(\"df_f.id\").alias(\"id_f\"),\n",
    "            F.col(\"df_g.id\").alias(\"id_g\"),\n",
    "            F.array(\n",
    "                search_values_from_maptype(\"raw_cookie\", \"_sa_cookie_a\"),\n",
    "                search_values_from_maptype(\"raw_cookie\", \"_fa_cookie_a\"),\n",
    "                search_values_from_maptype(\"raw_cookie\", \"_ym_cookie_c\"),\n",
    "                search_values_from_maptype(\"raw_cookie\", \"_fbp\")\n",
    "            ).alias(\"array_coockie\")\n",
    "     )\n",
    ")\n",
    "main_marts.show(10, truncate=False)"
   ]
  },
  {
   "cell_type": "code",
   "execution_count": null,
   "id": "56ef97fa-447e-4377-a379-714d205d6124",
   "metadata": {},
   "outputs": [],
   "source": []
  }
 ],
 "metadata": {
  "kernelspec": {
   "display_name": "Python 3 (ipykernel)",
   "language": "python",
   "name": "python3"
  },
  "language_info": {
   "codemirror_mode": {
    "name": "ipython",
    "version": 3
   },
   "file_extension": ".py",
   "mimetype": "text/x-python",
   "name": "python",
   "nbconvert_exporter": "python",
   "pygments_lexer": "ipython3",
   "version": "3.11.12"
  }
 },
 "nbformat": 4,
 "nbformat_minor": 5
}
